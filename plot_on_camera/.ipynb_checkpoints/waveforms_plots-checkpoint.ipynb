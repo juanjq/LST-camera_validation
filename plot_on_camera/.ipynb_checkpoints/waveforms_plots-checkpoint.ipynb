{
 "cells": [
  {
   "cell_type": "markdown",
   "id": "598a31d4",
   "metadata": {},
   "source": [
    "# Parameters"
   ]
  },
  {
   "cell_type": "code",
   "execution_count": null,
   "id": "c6a6b1b6",
   "metadata": {},
   "outputs": [],
   "source": [
    "# --------- PARAMETERS --------- #\n",
    "RUN     = 160           # number of run\n",
    "Nevents = 50            # number of events we are going to extract to plot\n",
    "\n",
    "root = '/pnfs/pic.es/data/cta/LST/LST2/Data/ZFITS/'  # path to all folders with the .zfits files\n",
    "root = \"/home/juan/projects/lst_camera_validation/plot_on_camera/data/20240416\"\n",
    "# ------------------------------ #\n",
    "\n",
    "# other parameters\n",
    "dir_graphs = 'graphs/'\n",
    "subrun     = 0          # number of subrun"
   ]
  },
  {
   "cell_type": "markdown",
   "id": "37cc368e",
   "metadata": {},
   "source": [
    "Packages and imports"
   ]
  },
  {
   "cell_type": "code",
   "execution_count": null,
   "id": "12125e5c",
   "metadata": {},
   "outputs": [],
   "source": [
    "import numpy  as np\n",
    "import matplotlib.pyplot as plt\n",
    "\n",
    "from traitlets.config      import Config\n",
    "from ctapipe.io            import EventSource\n",
    "\n",
    "import auxiliar as aux\n",
    "aux.parameters()\n",
    "\n",
    "# creating the folder if dont exist\n",
    "aux.create_folder(dir_graphs)  \n",
    "\n",
    "# extracting the number of LST\n",
    "LST_camera = 4 #aux.find_LST_num(root) "
   ]
  },
  {
   "cell_type": "markdown",
   "id": "d4c55d75",
   "metadata": {},
   "source": [
    "# Data extraction"
   ]
  },
  {
   "cell_type": "code",
   "execution_count": null,
   "id": "61c74133",
   "metadata": {},
   "outputs": [],
   "source": [
    "# findng to what date correspond the run\n",
    "# date, subruns = aux.search(root,RUN)\n",
    "\n",
    "# to open a second run we need to use the first subrun of the run and\n",
    "# extract the timestamp of the first event\n",
    "\n",
    "# first subrun configuration\n",
    "config = Config({'LSTEventSource': {'default_trigger_type': 'ucts','allowed_tels': [1],\n",
    "                                    'min_flatfield_adc': 3000,'min_flatfield_pixel_fraction': 0.8,},})  \n",
    "path = './data/20240416/LST-'+str(LST_camera)+'.1.Run'+str(RUN).zfill(5)+'.'+str(subrun).zfill(4)+'.fits.fz' \n",
    "\n",
    "source = EventSource( input_url = path ,config = config, max_events=1)\n",
    "\n",
    "for i, ev in enumerate(source): \n",
    "    timestamp = int(ev.trigger.time.value)\n",
    "\n",
    "# following subrun configuration\n",
    "config = Config({'LSTEventSource': {'default_trigger_type': 'ucts','allowed_tels': [1],\n",
    "                                    'min_flatfield_adc': 3000,'min_flatfield_pixel_fraction': 0.8,\n",
    "                                    \"EventTimeCalculator\": {\"dragon_module_id\":133,\n",
    "                                                            \"dragon_reference_counter\": 0,\n",
    "                                                            \"dragon_reference_time\": timestamp,},},})\n",
    "\n",
    "path = './data/20240416/LST-'+str(LST_camera)+'.1.Run'+str(RUN).zfill(5)+'.'+str(subrun).zfill(4)+'.fits.fz' \n",
    "\n",
    "\n",
    "# once we have the timestamp extracted we can take the data we wanted\n",
    "source = EventSource(input_url=path ,config=config, max_events=Nevents)\n",
    "\n",
    "# extracting the waveforms\n",
    "waveforms = [[] for i in range(Nevents)]\n",
    "\n",
    "for i, ev in enumerate(source): \n",
    "    for px in range(1855):\n",
    "        waveforms[i].append(ev.r0.tel[1].waveform[0][px][5:])\n"
   ]
  },
  {
   "cell_type": "markdown",
   "id": "924c1d40",
   "metadata": {},
   "source": [
    "# Plot 1 event only"
   ]
  },
  {
   "cell_type": "code",
   "execution_count": null,
   "id": "420cb768",
   "metadata": {},
   "outputs": [],
   "source": [
    "######################################\n",
    "\n",
    "event_index = 12\n",
    "\n",
    "######################################\n",
    "\n",
    "aux.event_waveforms_plot(event_index, waveforms)\n",
    "\n",
    "# for saving the plot uncomment and change the filename as you want\n",
    "plt.savefig(dir_graphs + 'waveforms.pdf', format='pdf', bbox_inches='tight') \n",
    "plt.show()"
   ]
  },
  {
   "cell_type": "markdown",
   "id": "75fb91ea",
   "metadata": {},
   "source": [
    "# Plot multiple events"
   ]
  },
  {
   "cell_type": "code",
   "execution_count": null,
   "id": "bf917288",
   "metadata": {},
   "outputs": [],
   "source": [
    "######################################\n",
    "\n",
    "# create an array with all the event numbers we want to plot \n",
    "# (note: there are not eventID = 0, so start from 1)\n",
    "event_indexes = np.array(range(10)) + 1\n",
    "\n",
    "######################################\n",
    "\n",
    "for ev in event_indexes:\n",
    "    print('Event ID ' + str(ev))\n",
    "    aux.event_waveforms_plot(ev, waveforms)\n",
    "    plt.show()"
   ]
  },
  {
   "cell_type": "code",
   "execution_count": null,
   "id": "e9ba7316-a13d-4e3a-81de-5e37a156bdbf",
   "metadata": {},
   "outputs": [],
   "source": []
  }
 ],
 "metadata": {
  "kernelspec": {
   "display_name": "Python 3 (ipykernel)",
   "language": "python",
   "name": "python3"
  },
  "language_info": {
   "codemirror_mode": {
    "name": "ipython",
    "version": 3
   },
   "file_extension": ".py",
   "mimetype": "text/x-python",
   "name": "python",
   "nbconvert_exporter": "python",
   "pygments_lexer": "ipython3",
   "version": "3.11.8"
  }
 },
 "nbformat": 4,
 "nbformat_minor": 5
}
