{
 "cells": [
  {
   "cell_type": "code",
   "execution_count": 10,
   "id": "c6a6b1b6",
   "metadata": {},
   "outputs": [
    {
     "data": {
      "text/plain": [
       "'/home/juan/projects/lst_camera_validation/plot_on_camera/data/20240416/LST-4.1.Run00160.0000.fits.fz'"
      ]
     },
     "execution_count": 10,
     "metadata": {},
     "output_type": "execute_result"
    }
   ],
   "source": [
    "RUN = 160 \n",
    "SUBRUN = 0\n",
    "Nevents = 50 # number of events we are going to extract to plot\n",
    "\n",
    "root = \"/home/juan/projects/lst_camera_validation/plot_on_camera/data/20240416\"\n",
    "\n",
    "path = root + \"/LST-4.1.Run\"+str(RUN).zfill(5)+\".\"+str(SUBRUN).zfill(4)+\".fits.fz\"\n",
    "path"
   ]
  },
  {
   "cell_type": "code",
   "execution_count": 11,
   "id": "12125e5c",
   "metadata": {},
   "outputs": [],
   "source": [
    "import numpy  as np\n",
    "import matplotlib.pyplot as plt\n",
    "\n",
    "from traitlets.config      import Config\n",
    "from ctapipe.io            import EventSource\n",
    "from protozfits import File\n",
    "\n",
    "import auxiliar as aux\n",
    "aux.parameters()"
   ]
  },
  {
   "cell_type": "code",
   "execution_count": 12,
   "id": "aa07b1e7-d43f-47f2-91f7-f1b0aef31b9e",
   "metadata": {},
   "outputs": [],
   "source": [
    "config0 = Config({'LSTEventSource': {'default_trigger_type': 'ucts','allowed_tels': [1],\n",
    "                                    'min_flatfield_adc': 3000,'min_flatfield_pixel_fraction': 0.8,},})  \n",
    "\n",
    "source = EventSource(input_url=path ,config=config0, max_events=1)"
   ]
  },
  {
   "cell_type": "code",
   "execution_count": 18,
   "id": "7d989e8c-cd83-44bf-8a73-78ef514d76a5",
   "metadata": {},
   "outputs": [],
   "source": [
    "file = File(path)\n",
    "for i, event in enumerate(file.Events):\n",
    "    if i > 3:\n",
    "        break"
   ]
  },
  {
   "cell_type": "code",
   "execution_count": 20,
   "id": "340e54fb-94de-4e6a-a467-17e78507cf61",
   "metadata": {},
   "outputs": [],
   "source": [
    "event = file.Events[10]"
   ]
  },
  {
   "cell_type": "code",
   "execution_count": null,
   "id": "61c74133",
   "metadata": {},
   "outputs": [],
   "source": [
    "# extracting the waveforms\n",
    "waveforms = [[] for i in range(Nevents)]\n",
    "\n",
    "for i, ev in enumerate(source): \n",
    "    for px in range(1855):\n",
    "        waveforms[i].append(ev.r0.tel[1].waveform[0][px][5:])\n"
   ]
  },
  {
   "cell_type": "markdown",
   "id": "924c1d40",
   "metadata": {},
   "source": [
    "# Plot 1 event only"
   ]
  },
  {
   "cell_type": "code",
   "execution_count": null,
   "id": "420cb768",
   "metadata": {},
   "outputs": [],
   "source": [
    "######################################\n",
    "\n",
    "event_index = 12\n",
    "\n",
    "######################################\n",
    "\n",
    "aux.event_waveforms_plot(event_index, waveforms)\n",
    "\n",
    "# for saving the plot uncomment and change the filename as you want\n",
    "plt.savefig(dir_graphs + 'waveforms.pdf', format='pdf', bbox_inches='tight') \n",
    "plt.show()"
   ]
  },
  {
   "cell_type": "markdown",
   "id": "75fb91ea",
   "metadata": {},
   "source": [
    "# Plot multiple events"
   ]
  },
  {
   "cell_type": "code",
   "execution_count": null,
   "id": "bf917288",
   "metadata": {},
   "outputs": [],
   "source": [
    "######################################\n",
    "\n",
    "# create an array with all the event numbers we want to plot \n",
    "# (note: there are not eventID = 0, so start from 1)\n",
    "event_indexes = np.array(range(10)) + 1\n",
    "\n",
    "######################################\n",
    "\n",
    "for ev in event_indexes:\n",
    "    print('Event ID ' + str(ev))\n",
    "    aux.event_waveforms_plot(ev, waveforms)\n",
    "    plt.show()"
   ]
  },
  {
   "cell_type": "code",
   "execution_count": null,
   "id": "e9ba7316-a13d-4e3a-81de-5e37a156bdbf",
   "metadata": {},
   "outputs": [],
   "source": []
  }
 ],
 "metadata": {
  "kernelspec": {
   "display_name": "Python 3 (ipykernel)",
   "language": "python",
   "name": "python3"
  },
  "language_info": {
   "codemirror_mode": {
    "name": "ipython",
    "version": 3
   },
   "file_extension": ".py",
   "mimetype": "text/x-python",
   "name": "python",
   "nbconvert_exporter": "python",
   "pygments_lexer": "ipython3",
   "version": "3.11.8"
  }
 },
 "nbformat": 4,
 "nbformat_minor": 5
}
