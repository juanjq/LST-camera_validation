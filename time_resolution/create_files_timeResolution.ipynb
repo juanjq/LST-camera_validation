{
 "cells": [
  {
   "cell_type": "markdown",
   "id": "355cc9ef",
   "metadata": {},
   "source": [
    "## Parameters"
   ]
  },
  {
   "cell_type": "code",
   "execution_count": null,
   "id": "5ee15023",
   "metadata": {},
   "outputs": [],
   "source": [
    "# ------- PARAMETERS ------- #\n",
    "\n",
    "RUNS = [155]      # run indexes\n",
    "\n",
    "root = '/pnfs/pic.es/data/cta/LST/LST3/Data/ZFITS/' # path to all folders with the .zfits files\n",
    "\n",
    "# -------------------------- #\n",
    "\n",
    "# other parameters\n",
    "\n",
    "dir_files     = 'csv_files/'  # path (relative or absolute) to the .csv files that will be created\n",
    "only_subrun0  = True         # if we want to extract only the first subrun of a run"
   ]
  },
  {
   "cell_type": "markdown",
   "id": "871b74ff",
   "metadata": {},
   "source": [
    "## Import packages"
   ]
  },
  {
   "cell_type": "code",
   "execution_count": null,
   "id": "306f8651",
   "metadata": {},
   "outputs": [],
   "source": [
    "import numpy  as np\n",
    "import pandas as pd\n",
    "\n",
    "from traitlets.config import Config\n",
    "from ctapipe.io       import EventSource\n",
    "from IPython.display  import clear_output\n",
    "\n",
    "import auxiliar as aux\n",
    "\n",
    "LST_camera = aux.find_LST_num(root) # extracting the number of LST\n",
    "\n",
    "aux.create_folder(dir_files)        # creating the folder if dont exist"
   ]
  },
  {
   "cell_type": "markdown",
   "id": "74561db9",
   "metadata": {},
   "source": [
    "# Extract time of peak arrival in each pixel"
   ]
  },
  {
   "cell_type": "code",
   "execution_count": null,
   "id": "69d3e2b6",
   "metadata": {},
   "outputs": [],
   "source": [
    "# over all runs\n",
    "for run in RUNS:\n",
    "\n",
    "    # finding the run in the folder root\n",
    "    date, subruns = aux.search(root,run)    \n",
    "\n",
    "    # to open a second run we need to use the first subrun of the run and\n",
    "    # extract the timestamp of the first event\n",
    "\n",
    "    # first subrun configuration\n",
    "    config = Config(\n",
    "        {\n",
    "            'LSTEventSource': {\n",
    "                'default_trigger_type': 'ucts',\n",
    "                'allowed_tels': [1],\n",
    "                'min_flatfield_adc': 3000,\n",
    "                'min_flatfield_pixel_fraction': 0.8,\n",
    "            },\n",
    "        })  \n",
    "\n",
    "    path   = root + date + '/'\n",
    "    path   = path + 'LST-' + LST_camera + '.1.Run' + str(run).zfill(5) + '.' + str(0).zfill(4) + '.fits.fz'\n",
    "    source = EventSource(input_url=path, config=config, max_events=1)\n",
    "\n",
    "    for i, ev in enumerate(source): \n",
    "        timestamp = int(ev.trigger.time.value)\n",
    "\n",
    "    # following subrun configuration\n",
    "    config = Config(\n",
    "        {\n",
    "            'LSTEventSource': {\n",
    "                'default_trigger_type': 'ucts',\n",
    "                'allowed_tels': [1],\n",
    "                'min_flatfield_adc': 3000,\n",
    "                'min_flatfield_pixel_fraction': 0.8,\n",
    "\n",
    "          \"EventTimeCalculator\": {\n",
    "            \"dragon_module_id\":133 ,\n",
    "            \"dragon_reference_counter\": 0,\n",
    "            \"dragon_reference_time\": timestamp,\n",
    "          },\n",
    "            },\n",
    "        })\n",
    "    \n",
    "    # over all subruns\n",
    "    for subrun in subruns:\n",
    "        \n",
    "        # directory\n",
    "        path   = root + date + '/'\n",
    "        path   = path + 'LST-' + LST_camera + '.1.Run'+str(run).zfill(5)+'.'+str(subrun).zfill(4)+'.fits.fz'\n",
    "        source = EventSource(input_url=path, config=config)\n",
    "\n",
    "\n",
    "        # arrays \n",
    "        tPeak = [[] for i in range(1855)]\n",
    "        time  =  []\n",
    "\n",
    "        for i, ev in enumerate(source): \n",
    "\n",
    "            if i % 5000 == 0 or i == 0:\n",
    "                print('Run ' + str(run) + ' Subrun ' + str(subrun) +' - '+str(round(100 * i / 53000,2)) + '%')\n",
    "            \n",
    "            # saving the time of arrival of the peak in each pixel\n",
    "            for j in range(1855):\n",
    "        \n",
    "                tPeak[j].append(np.argmax(ev.r0.tel[1].waveform[0][j][5:]))\n",
    "            time.append(ev.trigger.time.value)\n",
    "            \n",
    "        print('Run ' + str(run) + ' Subrun ' + str(subrun) + ' - 100%')\n",
    "        print('\\n creating the dataframe...')\n",
    "        \n",
    "        #we create the matrix for the dataframe\n",
    "        matrix = [time]  \n",
    "        for i in range(len(tPeak)):\n",
    "            matrix.append(tPeak[i])\n",
    "\n",
    "        del tPeak, time\n",
    "\n",
    "        # creating the dataframe using pandas\n",
    "        data = pd.DataFrame(np.transpose(matrix))\n",
    "\n",
    "        del matrix\n",
    "\n",
    "        # csv arxive\n",
    "        data.to_csv(dir_files + 'data_tRes_Run' + str(run) + '_Subrun' + str(subrun) + '.csv', index=False)\n",
    "\n",
    "        # clear memory and console\n",
    "        clear_output()\n",
    "        del data\n",
    "        \n",
    "print('Finished with the files creation')"
   ]
  },
  {
   "cell_type": "code",
   "execution_count": null,
   "id": "a0761acf",
   "metadata": {},
   "outputs": [],
   "source": []
  }
 ],
 "metadata": {
  "kernelspec": {
   "display_name": "Python 3",
   "language": "python",
   "name": "python3"
  },
  "language_info": {
   "codemirror_mode": {
    "name": "ipython",
    "version": 3
   },
   "file_extension": ".py",
   "mimetype": "text/x-python",
   "name": "python",
   "nbconvert_exporter": "python",
   "pygments_lexer": "ipython3",
   "version": "3.7.10"
  }
 },
 "nbformat": 4,
 "nbformat_minor": 5
}
