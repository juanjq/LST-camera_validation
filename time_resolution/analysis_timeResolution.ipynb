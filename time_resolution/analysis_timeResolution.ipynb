{
 "cells": [
  {
   "cell_type": "markdown",
   "id": "d1cc4d7c",
   "metadata": {},
   "source": [
    "## Parameters"
   ]
  },
  {
   "cell_type": "code",
   "execution_count": null,
   "id": "cf9c274c",
   "metadata": {},
   "outputs": [],
   "source": [
    "# ------- PARAMETERS ------- #\n",
    "\n",
    "RUNS = [111,113,114,120]     # run indexes\n",
    "\n",
    "root = '/pnfs/pic.es/data/cta/LST/LST2/Data/ZFITS/' # path to all folders with the .zfits files\n",
    "\n",
    "# -------------------------- #\n",
    "\n",
    "# other parameters\n",
    "subrun = 0                    # subrun we are going to analyse\n",
    "\n",
    "graphs_format = 'pdf'         # file format of images\n",
    "dir_files     = 'csv_files/'  # path (relative or absolute) to the .csv files that will be created\n",
    "dir_graphs    = 'graphs/'"
   ]
  },
  {
   "cell_type": "markdown",
   "id": "a62d2692",
   "metadata": {},
   "source": [
    "### Packages and some definitions"
   ]
  },
  {
   "cell_type": "code",
   "execution_count": null,
   "id": "fcc759a7",
   "metadata": {},
   "outputs": [],
   "source": [
    "import matplotlib.colors as colors\n",
    "import matplotlib.pyplot as plt\n",
    "import pandas            as pd\n",
    "import numpy             as np\n",
    "\n",
    "from ctapipe.visualization import CameraDisplay\n",
    "from ctapipe.coordinates   import EngineeringCameraFrame\n",
    "from traitlets.config      import Config\n",
    "from ctapipe.io            import EventSource\n",
    "\n",
    "import auxiliar as aux\n",
    "aux.parameters()\n",
    "\n",
    "# extracting the number of LST\n",
    "LST_camera = aux.find_LST_num(root) \n",
    "\n",
    "# creating the folder if dont exist\n",
    "aux.create_folder(dir_files)        \n",
    "aux.create_folder(dir_graphs)\n",
    "\n",
    "# getting geometry of the camera\n",
    "date, subruns = aux.search(root,RUNS[0])    \n",
    "config  = Config({'LSTEventSource': {'default_trigger_type': 'ucts','allowed_tels': [1],\n",
    "                                    'min_flatfield_adc': 3000,'min_flatfield_pixel_fraction': 0.8,},})  \n",
    "\n",
    "path    = root + date + '/'\n",
    "path    = path + 'LST-' + LST_camera + '.1.Run' + str(RUNS[0]).zfill(5) + '.' + str(0).zfill(4) + '.fits.fz'\n",
    "source  = EventSource(input_url=path, config=config)\n",
    "camgeom = source.subarray.tel[1].camera.geometry\n",
    "LSTgeom = camgeom.transform_to(EngineeringCameraFrame())"
   ]
  },
  {
   "cell_type": "markdown",
   "id": "ac731450",
   "metadata": {},
   "source": [
    "### Calculating and plotting"
   ]
  },
  {
   "cell_type": "code",
   "execution_count": null,
   "id": "71ae0cc6",
   "metadata": {
    "scrolled": false
   },
   "outputs": [],
   "source": [
    "for RUN in RUNS:\n",
    "\n",
    "    print('Analysisng Run ' + str(RUN) + '- Subrun ' + str(subrun) + '\\n')\n",
    "    \n",
    "    # ----- data extraction ----- #\n",
    "    path        = dir_files + 'data_tRes_Run' + str(RUN) + '_Subrun' + str(subrun) + '.csv'\n",
    "    tPeak, time = aux.readTimeResCSV(path)\n",
    "\n",
    "    \n",
    "    # --- mean value for each pixel --- #\n",
    "    tPeakM = [np.mean(tPeak[px]) for px in range(1855)]\n",
    "    tPeakS = [np.std(tPeak[px])  for px in range(1855)]\n",
    "    \n",
    "    # ----------- pedestal ----------- #\n",
    "    fig, (ax1, ax2) = plt.subplots(1,2,figsize=(12,5), gridspec_kw={'width_ratios':[4, 2]})\n",
    "\n",
    "    # ax1 pedestal values -------------\n",
    "    ax1.plot(tPeakM, color='darkblue')\n",
    "    ax1.set_ylabel('Mean arrival time (ns)')\n",
    "    ax1.set_xlabel('Pixel ID')\n",
    "\n",
    "    # ax2 histogram ------------------\n",
    "    ax2.hist(tPeakM, bins=34, histtype='stepfilled', orientation='horizontal', color='cornflowerblue')\n",
    "    ax2.axhline(np.mean(tPeakM), color='k', linestyle='--', label='Mean = ' + str(round(np.mean(tPeakM), 2)))\n",
    "    ax2.set_xlabel('Counts')\n",
    "    ax2.legend()\n",
    "\n",
    "    savename = dir_graphs + 'tRes_mean_Run' + str(RUN) + '_subrun' + str(subrun)\n",
    "    plt.savefig(savename + '.' + graphs_format, format=graphs_format, bbox_inches='tight')\n",
    "    plt.show()\n",
    "    # ----------------------------------- #\n",
    "    \n",
    "    # ------------- stdv -------------- #\n",
    "    fig, (ax1,ax2) = plt.subplots(1,2,figsize=(12,5), gridspec_kw={'width_ratios':[4, 2]})\n",
    "\n",
    "    # ax1 stdv values -------------\n",
    "    ax1.plot(tPeakS, color='crimson')\n",
    "    ax1.set_ylabel('Stdv of arrival time')\n",
    "    ax1.set_xlabel('Pixel ID')\n",
    "\n",
    "    # ax2 histogram ---------------\n",
    "    ax2.hist(tPeakS, bins=34, histtype='stepfilled', orientation='horizontal', color='deeppink')\n",
    "    ax2.axhline(np.mean(tPeakS), color='k', linestyle='--', label= 'Mean = ' + str(round(np.mean(tPeakS), 2)))\n",
    "    ax2.set_xlabel('Counts')\n",
    "    ax2.legend()\n",
    "    \n",
    "    savename = dir_graphs+'tRes_stdv_Run'+str(RUN)+'_subrun'+str(subrun)\n",
    "    plt.savefig(savename + '.' + graphs_format, format=graphs_format, bbox_inches='tight')\n",
    "    plt.show()    \n",
    "    # -------------------------------- #\n",
    "    \n",
    "    # ------ camera plot ------ #\n",
    "    fig,(ax1,ax2) = plt.subplots(1,2,figsize=(16,5.7))\n",
    "\n",
    "\n",
    "    image, norm, cmap = tPeakM, colors.CenteredNorm(np.mean(tPeakM)), 'coolwarm'\n",
    "    camdisplay = CameraDisplay(LSTgeom, ax=ax1, image=image, norm=norm, show_frame=False, cmap=cmap, title='')\n",
    "    camdisplay.add_colorbar(label='$\\\\langle t \\\\rangle$')\n",
    "    ax1.set_axis_off()\n",
    "    ax1.invert_xaxis()\n",
    "    ax1.invert_yaxis()\n",
    "    \n",
    "    image, norm, cmap = tPeakS, colors.CenteredNorm(np.mean(tPeakS)), 'Spectral_r'\n",
    "    camdisplay = CameraDisplay(LSTgeom, ax=ax2, image=image, norm=norm, show_frame=False, cmap=cmap, title='')\n",
    "    camdisplay.add_colorbar(label='stdv (t)')\n",
    "    ax2.set_axis_off()\n",
    "    ax1.invert_xaxis()\n",
    "    ax1.invert_yaxis()\n",
    "\n",
    "    savename = dir_graphs + 'cameraPlot_tRes_Run' + str(RUN) + '_subrun' + str(subrun)\n",
    "    plt.savefig(savename + '.' + graphs_format, format=graphs_format, bbox_inches='tight')  \n",
    "    plt.show()\n",
    "    # ------------------------- #    \n",
    "    "
   ]
  },
  {
   "cell_type": "code",
   "execution_count": null,
   "id": "88881650",
   "metadata": {},
   "outputs": [],
   "source": []
  }
 ],
 "metadata": {
  "kernelspec": {
   "display_name": "Python 3",
   "language": "python",
   "name": "python3"
  },
  "language_info": {
   "codemirror_mode": {
    "name": "ipython",
    "version": 3
   },
   "file_extension": ".py",
   "mimetype": "text/x-python",
   "name": "python",
   "nbconvert_exporter": "python",
   "pygments_lexer": "ipython3",
   "version": "3.7.10"
  }
 },
 "nbformat": 4,
 "nbformat_minor": 5
}
