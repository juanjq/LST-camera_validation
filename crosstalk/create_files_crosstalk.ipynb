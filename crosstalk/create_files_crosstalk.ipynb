{
 "cells": [
  {
   "cell_type": "markdown",
   "id": "2bbcbe10",
   "metadata": {},
   "source": [
    "## Parameters"
   ]
  },
  {
   "cell_type": "code",
   "execution_count": null,
   "id": "e65b3960",
   "metadata": {},
   "outputs": [],
   "source": [
    "# ------- PARAMETERS ------- # \n",
    "\n",
    "RUNS = [137,138,139,140,141,142,143,147,148,149,150,151,152,153,156,157,158,159,160,161,162,163,164,167,168,169,170]\n",
    "\n",
    "root = '/pnfs/pic.es/data/cta/LST/LST2/Data/ZFITS/'\n",
    "\n",
    "# -------------------------- #\n",
    "\n",
    "# other parameters\n",
    "output_path   = 'file_output/'\n",
    "limitDistance = 0.21 # radius we get for the neighbor pixels"
   ]
  },
  {
   "cell_type": "markdown",
   "id": "cb70f8e8",
   "metadata": {},
   "source": [
    "## Import and functions"
   ]
  },
  {
   "cell_type": "code",
   "execution_count": null,
   "id": "70723f9d",
   "metadata": {},
   "outputs": [],
   "source": [
    "import numpy  as np\n",
    "import pandas as pd\n",
    "import os\n",
    "\n",
    "from ctapipe.instrument    import CameraGeometry\n",
    "from ctapipe.visualization import CameraDisplay\n",
    "from ctapipe.coordinates   import EngineeringCameraFrame\n",
    "from traitlets.config      import Config\n",
    "from ctapipe.io            import EventSource\n",
    "\n",
    "from IPython.display import clear_output\n",
    "\n",
    "import auxiliar as aux\n",
    "\n",
    "# extracting the number of LST\n",
    "LST_camera = aux.find_LST_num(root) \n",
    "\n",
    "# getting geometry of the camera\n",
    "date, subruns = aux.search(root,RUNS[0])    \n",
    "config  = Config({'LSTEventSource': {'default_trigger_type': 'ucts','allowed_tels': [1],\n",
    "                                    'min_flatfield_adc': 3000,'min_flatfield_pixel_fraction': 0.8,},})  \n",
    "\n",
    "path    = root + date+'/'+'LST-'+LST_camera+'.1.Run'+str(RUNS[0]).zfill(5)+'.'+str(0).zfill(4)+'.fits.fz'\n",
    "source  = EventSource(input_url=path, config=config)\n",
    "camgeom = source.subarray.tel[1].camera.geometry\n",
    "\n",
    "# camera geometry for CaCo\n",
    "camgeom2 = CameraGeometry.from_name(\"LSTCam\")\n",
    "\n",
    "# creating the folder if dont exist\n",
    "aux.create_folder(output_path) "
   ]
  },
  {
   "cell_type": "markdown",
   "id": "c9d5f5c8",
   "metadata": {},
   "source": [
    "Finding the neighbor pixels"
   ]
  },
  {
   "cell_type": "code",
   "execution_count": null,
   "id": "a17579f9",
   "metadata": {},
   "outputs": [],
   "source": [
    "# first and second neighbors to pixels\n",
    "print('Calculating neighbors...')\n",
    "PX_N, PX_NN = aux.neighborPixels(camgeom, limitDistance)\n",
    "\n",
    "# pixels we are interested in each run\n",
    "print('Calculating neighbors we are interested in each run...')\n",
    "pixelsRun = aux.neighborCluster(camgeom, camgeom2, RUNS)\n"
   ]
  },
  {
   "cell_type": "code",
   "execution_count": null,
   "id": "93b59fd6",
   "metadata": {},
   "outputs": [],
   "source": [
    "# create (or erase) files\n",
    "for px in range(1855):\n",
    "    open(output_path + 'Pixel' + str(px).zfill(4) + '.txt', 'w+')\n",
    "\n",
    "# a list with the near and next-near neighbors\n",
    "for px in range(1855):\n",
    "    f = open(output_path + 'Pixel' + str(px).zfill(4) + '.txt', 'a+')\n",
    "    f.write('N\\n')\n",
    "    f.write(str(PX_N[px]).replace(' ', '')  + '\\n')\n",
    "    f.write('NN\\n')\n",
    "    f.write(str(PX_NN[px]).replace(' ', '') + '\\n')\n",
    "    f.close()"
   ]
  },
  {
   "cell_type": "markdown",
   "id": "2622c0f7",
   "metadata": {},
   "source": [
    "## All subruns"
   ]
  },
  {
   "cell_type": "code",
   "execution_count": null,
   "id": "9dfe498a",
   "metadata": {
    "scrolled": false
   },
   "outputs": [],
   "source": [
    "# over all runs\n",
    "for run in RUNS:\n",
    "\n",
    "    # finding the run in the folder root\n",
    "    date, subruns = aux.search(root,run)    \n",
    "\n",
    "    # to open a second run we need to use the first subrun of the run and\n",
    "    # extract the timestamp of the first event\n",
    "\n",
    "    # first subrun configuration\n",
    "    config = Config(\n",
    "        {\n",
    "            'LSTEventSource': {\n",
    "                'default_trigger_type': 'ucts',\n",
    "                'allowed_tels': [1],\n",
    "                'min_flatfield_adc': 3000,\n",
    "                'min_flatfield_pixel_fraction': 0.8,\n",
    "            },\n",
    "        })  \n",
    "\n",
    "    path   = root + date + '/'\n",
    "    path   = path + 'LST-' + LST_camera + '.1.Run' + str(run).zfill(5) + '.' + str(0).zfill(4) + '.fits.fz'\n",
    "    source = EventSource(input_url=path, config=config, max_events=1)\n",
    "\n",
    "    for i, ev in enumerate(source): \n",
    "        timestamp = int(ev.trigger.time.value)\n",
    "\n",
    "    # following subrun configuration\n",
    "    config = Config(\n",
    "        {\n",
    "            'LSTEventSource': {\n",
    "                'default_trigger_type': 'ucts',\n",
    "                'allowed_tels': [1],\n",
    "                'min_flatfield_adc': 3000,\n",
    "                'min_flatfield_pixel_fraction': 0.8,\n",
    "\n",
    "          \"EventTimeCalculator\": {\n",
    "            \"dragon_module_id\":133 ,\n",
    "            \"dragon_reference_counter\": 0,\n",
    "            \"dragon_reference_time\": timestamp,\n",
    "          },\n",
    "            },\n",
    "        })\n",
    "    \n",
    "    # over all subruns\n",
    "    for subrun in subruns:\n",
    "        \n",
    "        path = root+date+'/'+'LST-'+LST_camera+'.1.Run'+str(run).zfill(5)+'.'+str(subrun).zfill(4)+'.fits.fz'\n",
    "        source = EventSource(input_url=path, config=config)\n",
    "\n",
    "        # iterating over all events\n",
    "        for i, ev in enumerate(source): \n",
    "\n",
    "            if i % 3000 == 0 or i == 0:\n",
    "                print('Run ' + str(run) + ' Subrun ' + str(subrun) +' - '+ str(round(100 * i/53000,2)) + '%')\n",
    "\n",
    "            pixel = None\n",
    "            # we look inly to pixels in the area we are interested for the run\n",
    "            for px in pixelsRun[RUNS.index(run)]:\n",
    "                \n",
    "                # detecting a flash in one pixel\n",
    "                if max(ev.r0.tel[1].waveform[0][px][5:]) > 1000:\n",
    "                    pixel = px\n",
    "                    break\n",
    "\n",
    "            if pixel != None:\n",
    "                \n",
    "                # writting the information of the other pixels in the file \n",
    "                # of the pixel that recieved the flash\n",
    "                \n",
    "                tot_px = [pixel] + PX_NN[pixel]\n",
    "                f      = open(output_path + 'Pixel' + str(pixel).zfill(4) + '.txt', 'a+')\n",
    "\n",
    "                for px in tot_px:\n",
    "                    if px == tot_px[0]:\n",
    "                        \n",
    "                        # saving the maximum amplitude of the waveform \n",
    "                        f.write(str(max(ev.r0.tel[1].waveform[0][px][5:])))\n",
    "                        \n",
    "                    else:\n",
    "                        f.write(',' + str(max(ev.r0.tel[1].waveform[0][px][5:])))\n",
    "                f.write('\\n')\n",
    "                f.close()\n",
    "\n",
    "        clear_output()\n",
    "        print('Run ' + str(run) + ' Subrun ' + str(subrun) + ' - 100 % \\n\\n')"
   ]
  },
  {
   "cell_type": "code",
   "execution_count": null,
   "id": "38413a0d",
   "metadata": {},
   "outputs": [],
   "source": []
  }
 ],
 "metadata": {
  "kernelspec": {
   "display_name": "Python 3",
   "language": "python",
   "name": "python3"
  },
  "language_info": {
   "codemirror_mode": {
    "name": "ipython",
    "version": 3
   },
   "file_extension": ".py",
   "mimetype": "text/x-python",
   "name": "python",
   "nbconvert_exporter": "python",
   "pygments_lexer": "ipython3",
   "version": "3.7.10"
  }
 },
 "nbformat": 4,
 "nbformat_minor": 5
}
